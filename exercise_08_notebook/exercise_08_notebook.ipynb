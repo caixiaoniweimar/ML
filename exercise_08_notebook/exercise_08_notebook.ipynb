{
  "nbformat": 4,
  "nbformat_minor": 0,
  "metadata": {
    "kernelspec": {
      "name": "python3",
      "display_name": "Python 3.7.9 64-bit ('py37': conda)",
      "metadata": {
        "interpreter": {
          "hash": "ac3b4ff4d1a99b26ea1843802a9577b9a6aa8c8c718b1dcbbe5104e367625b34"
        }
      }
    },
    "language_info": {
      "codemirror_mode": {
        "name": "ipython",
        "version": 3
      },
      "file_extension": ".py",
      "mimetype": "text/x-python",
      "name": "python",
      "nbconvert_exporter": "python",
      "pygments_lexer": "ipython3",
      "version": "3.7.9-final"
    },
    "colab": {
      "name": "exercise_08_notebook.ipynb",
      "provenance": [],
      "collapsed_sections": [
        "Ta3raIAezxGX"
      ]
    },
    "accelerator": "GPU"
  },
  "cells": [
    {
      "cell_type": "code",
      "metadata": {
        "id": "DENNTU-GzxGR"
      },
      "source": [
        "import copy\n",
        "import numpy as np\n",
        "import torch\n",
        "import torch.nn as nn\n",
        "import torch.nn.functional as F\n",
        "import torchvision\n",
        "import torchvision.transforms as transforms"
      ],
      "execution_count": 1,
      "outputs": []
    },
    {
      "cell_type": "markdown",
      "metadata": {
        "id": "Ta3raIAezxGX"
      },
      "source": [
        "# PyTorch\n",
        "In this notebook you will gain some hands-on experience with [PyTorch](https://pytorch.org/), one of the major frameworks for deep learning. To install PyTorch. follow [the official installation instructions](https://pytorch.org/get-started/locally/). Make sure that you select the correct OS & select the version with CUDA if your computer supports it.\n",
        "If you do not have an Nvidia GPU, you can install the CPU version by setting `CUDA` to `None`.\n",
        "However, in this case we recommend using [Google Colab](https://colab.research.google.com/).\n",
        "Make sure that you enable GPU acceleration in `Runtime > Change runtime type`.\n",
        "\n",
        "You will start by re-implementing some common features of deep neural networks (dropout and batch normalization) and then implement a very popular modern architecture for image classification (ResNet) and improve its training loop."
      ]
    },
    {
      "cell_type": "markdown",
      "metadata": {
        "id": "aVUzEIyEzxGY"
      },
      "source": [
        "# 1. Dropout\n",
        "Dropout is a form of regularization for neural networks. It works by randomly setting activations (values) to 0, each one with equal probability `p`. The values are then scaled by a factor $\\frac{1}{1-p}$ to conserve their mean.\n",
        "\n",
        "Dropout effectively trains a pseudo-ensemble of models with stochastic gradient descent. During evaluation we want to use the full ensemble and therefore have to turn off dropout. Use `self.training` to check if the model is in training or evaluation mode.\n",
        "\n",
        "Do not use any dropout implementation from PyTorch for this!"
      ]
    },
    {
      "cell_type": "code",
      "metadata": {
        "id": "NzwSLZgVzxGY"
      },
      "source": [
        "class Dropout(nn.Module):\n",
        "    \"\"\"\n",
        "    Dropout, as discussed in the lecture and described here:\n",
        "    https://pytorch.org/docs/stable/nn.html#torch.nn.Dropout\n",
        "    \n",
        "    Args:\n",
        "        p: float, dropout probability\n",
        "    \"\"\"\n",
        "    def __init__(self, p):\n",
        "        super().__init__()\n",
        "        self.p = p\n",
        "        \n",
        "    def forward(self, input):\n",
        "        \"\"\"\n",
        "        The module's forward pass.\n",
        "        This has to be implemented for every PyTorch module.\n",
        "        PyTorch then automatically generates the backward pass\n",
        "        by dynamically generating the computational graph during\n",
        "        execution.\n",
        "        \n",
        "        Args:\n",
        "            input: PyTorch tensor, arbitrary shape\n",
        "\n",
        "        Returns:\n",
        "            PyTorch tensor, same shape as input\n",
        "        \"\"\"\n",
        "        \n",
        "        # TODO: Set values randomly to 0.\n",
        "        #https://wiseodd.github.io/techblog/2016/06/25/dropout/\n",
        "        #print(np.random.binomial(1, self.p, size= input.shape)) # [0 1 0 ... 1 0 1]\n",
        "        if(self.training):\n",
        "          random = np.random.binomial(1, self.p, size= input.shape)/(1-self.p) # number of trials, probability of each trial, size \n",
        "          input *= random\n",
        "        return input\n"
      ],
      "execution_count": 2,
      "outputs": []
    },
    {
      "cell_type": "code",
      "metadata": {
        "id": "ZXRmHrrHzxGY"
      },
      "source": [
        "# Test dropout\n",
        "test = torch.ones(10_000)\n",
        "dropout = Dropout(0.5)\n",
        "test_dropped = dropout(test)\n",
        "\n",
        "# These assertions can in principle fail due to bad luck, but\n",
        "# if implemented correctly they should almost always succeed.\n",
        "assert np.isclose(test_dropped.sum().item(), 10_000, atol=400)\n",
        "assert np.isclose((test_dropped > 0).sum().item(), 5_000, atol=200)"
      ],
      "execution_count": 3,
      "outputs": []
    },
    {
      "cell_type": "markdown",
      "metadata": {
        "id": "lJcKpFvLzxGZ"
      },
      "source": [
        "# 2. Batch normalization\n",
        "Batch normalization is a trick use to smoothen the loss landscape and improve training. It is defined as the function\n",
        "$$y = \\frac{x - \\mu_x}{\\sigma_x + \\epsilon} \\cdot \\gamma + \\beta$$,\n",
        "where $\\gamma$ and $\\beta$ and learnable parameters and $\\epsilon$ is a some small number to avoid dividing by zero. The Statistics $\\mu_x$ and $\\sigma_x$ are taken separately for each feature. In a CNN this means averaging over the batch and all pixels.\n",
        "\n",
        "Do not use any batch normalization implementation from PyTorch for this!"
      ]
    },
    {
      "cell_type": "code",
      "metadata": {
        "id": "POlnnIGQzxGZ"
      },
      "source": [
        "class BatchNorm(nn.Module):\n",
        "    \"\"\"\n",
        "    Batch normalization, as discussed in the lecture and similar to\n",
        "    https://pytorch.org/docs/stable/nn.html#torch.nn.BatchNorm1d\n",
        "    \n",
        "    Only uses batch statistics (no running mean for evaluation).\n",
        "    Batch statistics are calculated for a single dimension.\n",
        "    Gamma is initialized as 1, beta as 0.\n",
        "    \n",
        "    Args:\n",
        "        num_features: Number of features to calculate batch statistics for.\n",
        "    \"\"\"\n",
        "    def __init__(self, num_features):\n",
        "        super().__init__()\n",
        "        \n",
        "        # TODO: Initialize the required parameters\n",
        "        self.gamma = nn.Parameter(torch.ones(num_features))\n",
        "        self.beta = nn.Parameter(torch.zeros(num_features))\n",
        "        \n",
        "    def forward(self, input):\n",
        "        \"\"\"\n",
        "        Batch normalization over the dimension C of (N, C, L).\n",
        "        \n",
        "        Args:\n",
        "            input: PyTorch tensor, shape [N, C, L]\n",
        "            \n",
        "        Return:\n",
        "            PyTorch tensor, same shape as input\n",
        "        \"\"\"\n",
        "        eps = 1e-5\n",
        "        \n",
        "        # TODO: Implement the required transformation\n",
        "        mean = input.mean(axis=(0,2), keepdims=True)\n",
        "        var = input.var(axis=(0,2), keepdims=True)\n",
        "        print(mean.shape)\n",
        "        #You compute the mean/standard deviation for each channel of the C channels. \n",
        "        #You each end up with a vector of size (C) calculated by taking the mean/standard deviation of N*L values each (taking the mean over dimension N and L).\n",
        "        #For broadcasting, make sure that it is broadcasted correctly! \n",
        "\n",
        "        x_centered = input - mean\n",
        "        std = np.sqrt(var + eps)\n",
        "        x_norm = x_centered/std \n",
        "\n",
        "        gamma = (self.gamma).reshape(2,1)\n",
        "        beta = (self.beta).reshape(2,1)\n",
        "        output = gamma * x_norm + beta\n",
        "        return output"
      ],
      "execution_count": 4,
      "outputs": []
    },
    {
      "cell_type": "code",
      "metadata": {
        "colab": {
          "base_uri": "https://localhost:8080/"
        },
        "id": "C9STVkewzxGZ",
        "outputId": "9fc3a6a5-22ab-4fff-feb0-cf0b961108e7"
      },
      "source": [
        "# Tests the batch normalization implementation\n",
        "torch.random.manual_seed(42)\n",
        "test = torch.randn(8, 2, 4) #N,C,L\n",
        "\n",
        "#N = number of samples in the batch (batch size)\n",
        "#C = number of channels\n",
        "#L = number of values for each channel\n",
        "\n",
        "b1 = BatchNorm(2)\n",
        "test_b1 = b1(test)\n",
        "\n",
        "b2 = nn.BatchNorm1d(2, affine=False, track_running_stats=False)\n",
        "test_b2 = b2(test)\n",
        "\n",
        "assert torch.allclose(test_b1, test_b2, rtol=0.02)"
      ],
      "execution_count": 5,
      "outputs": [
        {
          "output_type": "stream",
          "text": [
            "torch.Size([1, 2, 1])\n"
          ],
          "name": "stdout"
        }
      ]
    },
    {
      "cell_type": "markdown",
      "metadata": {
        "id": "3XLnzN8VzxGa"
      },
      "source": [
        "# 3. ResNet\n",
        "ResNet is the models that first introduced residual connections (a form of skip connections). It is a rather simple, but successful and very popular architecture. In this part of the exercise we will re-implement it step by step.\n",
        "\n",
        "Note that there is also an [improved version of ResNet](https://arxiv.org/abs/1603.05027) with optimized residual blocks. Here we will implement the [original version](https://arxiv.org/abs/1512.03385) for CIFAR-10. Your dropout and batchnorm implementations won't help you here. Just use PyTorch's own layers."
      ]
    },
    {
      "cell_type": "markdown",
      "metadata": {
        "id": "tyz1piyzzxGa"
      },
      "source": [
        "This is just a convenience function to make e.g. `nn.Sequential` more flexible. It is e.g. useful in combination with `x.squeeze()`."
      ]
    },
    {
      "cell_type": "code",
      "metadata": {
        "id": "TMi6EuKzzxGa"
      },
      "source": [
        "class Lambda(nn.Module):\n",
        "    def __init__(self, func):\n",
        "        super().__init__()\n",
        "        self.func = func\n",
        "\n",
        "    def forward(self, x):\n",
        "        #print('x ', x.shape)\n",
        "        #print('funcx ', self.func(x).shape )\n",
        "        return self.func(x)"
      ],
      "execution_count": 6,
      "outputs": []
    },
    {
      "cell_type": "markdown",
      "metadata": {
        "id": "okE_yWcgzxGb"
      },
      "source": [
        "We begin by implementing the residual blocks. The block is illustrated by this sketch:\n",
        "\n",
        "![Residual connection](img/residual_connection.png)\n",
        "\n",
        "Note that we use 'SAME' padding, no bias, and batch normalization after each convolution. You do not need `nn.Sequential` here. The skip connection is already implemented as `self.skip`. It can handle different strides and increases in the number of channels."
      ]
    },
    {
      "cell_type": "code",
      "metadata": {
        "id": "XqjbtPmVzxGb"
      },
      "source": [
        "class ResidualBlock(nn.Module):\n",
        "    \"\"\"\n",
        "    The residual block used by ResNet.\n",
        "    \n",
        "    Args:\n",
        "        in_channels: The number of channels (feature maps) of the incoming embedding\n",
        "        out_channels: The number of channels after the first convolution\n",
        "        stride: Stride size of the first convolution, used for downsampling\n",
        "    #https://github.com/kuangliu/pytorch-cifar/blob/master/models/resnet.py\n",
        "    \"\"\"\n",
        "    \n",
        "    def __init__(self, in_channels, out_channels, stride=1):\n",
        "        super().__init__()        \n",
        "        if stride > 1 or in_channels != out_channels:\n",
        "            # Add strides in the skip connection and zeros for the new channels.\n",
        "            self.skip = Lambda(lambda x: F.pad(x[:, :, ::stride, ::stride],\n",
        "                                             (0, 0, 0, 0, 0, out_channels - in_channels),\n",
        "                                             mode=\"constant\", value=0))\n",
        "        else:\n",
        "            self.skip = nn.Sequential()\n",
        "            \n",
        "        # TODO: Initialize the required layers\n",
        "        \n",
        "        self.conv1 = nn.Conv2d(in_channels, out_channels, kernel_size=3, stride=stride, padding=1, bias=False)\n",
        "        self.batchnorm1 = nn.BatchNorm2d(out_channels)\n",
        "        self.conv2 = nn.Conv2d(out_channels, out_channels, kernel_size=3, stride=1, padding=1, bias=False)\n",
        "        self.batchnorm2 = nn.BatchNorm2d(out_channels)\n",
        "        \n",
        "    def forward(self, input):\n",
        "        # TODO: Execute the required layers and functions\n",
        "        #print('before conv1, 2:',input.shape)\n",
        "        out = F.relu(self.batchnorm1(self.conv1(input)))\n",
        "        #print('after conv1',out.shape)\n",
        "        out = self.batchnorm2(self.conv2(out))\n",
        "        #print('after conv2',out.shape)\n",
        "        #print('skip ', (self.skip(input)).shape)\n",
        "        out += self.skip(input)\n",
        "        \n",
        "        out = F.relu(out)\n",
        "        return out"
      ],
      "execution_count": 7,
      "outputs": []
    },
    {
      "cell_type": "markdown",
      "metadata": {
        "id": "10NpfjMJzxGc"
      },
      "source": [
        "Next we implement a stack of residual blocks for convenience. The first layer in the block is the one changing the number of channels and downsampling. You can use `nn.ModuleList` to use a list of child modules."
      ]
    },
    {
      "cell_type": "code",
      "metadata": {
        "id": "Dijn-zggzxGc"
      },
      "source": [
        "class ResidualStack(nn.Module):\n",
        "    \"\"\"\n",
        "    A stack of residual blocks.\n",
        "    \n",
        "    Args:\n",
        "        in_channels: The number of channels (feature maps) of the incoming embedding\n",
        "        out_channels: The number of channels after the first layer\n",
        "        stride: Stride size of the first layer, used for downsampling\n",
        "        num_blocks: Number of residual blocks\n",
        "    \"\"\"\n",
        "    \n",
        "    def __init__(self, in_channels, out_channels, stride, num_blocks):\n",
        "        super().__init__()\n",
        "        \n",
        "        # TODO: Initialize the required layers (blocks)     \n",
        "        self.layers = nn.ModuleList(generate_layers(in_channels, out_channels, stride, num_blocks))\n",
        "        \n",
        "    def forward(self, input):\n",
        "        # TODO: Execute the layers (blocks)\n",
        "        for layer in self.layers:\n",
        "          input = layer(input)\n",
        "        return input\n",
        "    \n",
        "def generate_layers(in_channels, out_channels, stride, num_blocks):\n",
        "    strides_list = [stride] + [1]*(num_blocks-1)\n",
        "    # for the first block, strides= [1, 1, 1, 1, 1]\n",
        "    # for the following block, strides = [2,1,1,1,1]\n",
        "    # strides_list:\n",
        "    # if stride = 1, list contains [1] + [1]*4 =>[1, 1, 1, 1, 1]\n",
        "    # if stride = 2, list contains [2] + [1]*4 =>[2,1,1,1,1]\n",
        "    \n",
        "    layers=[]\n",
        "    for stride in strides_list:\n",
        "      #print('in_channels:', in_channels, 'out_channels:', out_channels, 'stride', stride)\n",
        "      layers.append(ResidualBlock(in_channels, out_channels, stride))\n",
        "      in_channels=out_channels\n",
        "    return layers\n",
        "\n",
        "def generate_layers2(in_channels, out_channels, stride, num_blocks):\n",
        "    layers=[]\n",
        "    for index in range(num_blocks):\n",
        "        if index==0:\n",
        "            layers.append(ResidualBlock(in_channels, out_channels, stride))\n",
        "            in_channels=out_channels\n",
        "        else:\n",
        "            #print('check_in',in_channels, 'check_out', out_channels)\n",
        "            layers.append(ResidualBlock(in_channels, out_channels, 1))\n",
        "            in_channels = out_channels\n",
        "    return layers"
      ],
      "execution_count": 8,
      "outputs": []
    },
    {
      "cell_type": "markdown",
      "metadata": {
        "id": "phiGwdfizxGc"
      },
      "source": [
        "Now we are finally ready to implement the full model! To do this, use the `nn.Sequential` API and carefully read the following paragraph from the paper (Fig. 3 is not important):\n",
        "\n",
        "![ResNet CIFAR10 description](img/resnet_cifar10_description.png)\n",
        "\n",
        "Note that a convolution layer is always convolution + batch norm + activation (ReLU), that each ResidualBlock contains 2 layers, and that you might have to `squeeze` the embedding before the dense (fully-connected) layer."
      ]
    },
    {
      "cell_type": "code",
      "metadata": {
        "colab": {
          "base_uri": "https://localhost:8080/"
        },
        "id": "zrmU3njSzxGd",
        "outputId": "c2edbae5-a345-4d74-d998-ab8249f0b204"
      },
      "source": [
        "n = 5\n",
        "num_classes = 10\n",
        "\n",
        "# TODO: Implement ResNet via nn.Sequential\n",
        "# input images 32*32\n",
        "# first layer: 3*3 convolutions\n",
        "# then use a stack of 6n layers with 3*3 convolutions on the feature maps \n",
        "# of size {32,16,8} respectively, with 2n layers for each feature map size\n",
        "# Feature Maps: the output size after applying conv2d()\n",
        "\n",
        "# 32*32: layers 1+2n -> 5 ResBlock -> filter 16 (out_channels) -> 16*32*32\n",
        "# 16*16: layers 2n -> 5 ResBlock -> filters 32 -> 32*16*16\n",
        "# 8*8: layers 2n -> 5 ResBlock -> filters 64 -> 64*8*8\n",
        "# subsampling -> stride 2\n",
        "# global average pooling\n",
        "# 10-way fully-connected layer and softmax;\n",
        "# totally 6n+2\n",
        "\n",
        "resnet = nn.Sequential(\n",
        "    Lambda(lambda x: x.view(-1, 3, 32, 32)),# (128,3,32,32)\n",
        "    nn.Conv2d(3, 16, kernel_size=3, stride=1, padding=1, bias=False), #(W-F+2P)/S+1=(32-3+2)/1+1=32 -> 128*16*32*32\n",
        "    nn.BatchNorm2d(16),\n",
        "    nn.ReLU(),\n",
        "    ResidualStack(16, 16, 1, n),\n",
        "    ResidualStack(16, 32, 2, n),\n",
        "    ResidualStack(32, 64, 2, n),\n",
        "    nn.AvgPool2d(8),\n",
        "    Lambda(lambda x: x.squeeze().view(x.size(0), -1)),\n",
        "    nn.Linear(64, num_classes), #fully connected layer\n",
        ")\n",
        "y= resnet(torch.randn(128,3,32,32))\n",
        "print(y.shape)"
      ],
      "execution_count": 9,
      "outputs": [
        {
          "output_type": "stream",
          "text": [
            "torch.Size([128, 10])\n"
          ],
          "name": "stdout"
        }
      ]
    },
    {
      "cell_type": "markdown",
      "metadata": {
        "id": "bEicyHhQzxGd"
      },
      "source": [
        "Next we need to initialize the weights of our model."
      ]
    },
    {
      "cell_type": "code",
      "metadata": {
        "id": "sGmQyDj0zxGd"
      },
      "source": [
        "def initialize_weight(module):\n",
        "    if isinstance(module, (nn.Linear, nn.Conv2d)):\n",
        "        nn.init.kaiming_normal_(module.weight, nonlinearity='relu')\n",
        "    elif isinstance(module, nn.BatchNorm2d):\n",
        "        nn.init.constant_(module.weight, 1)\n",
        "        nn.init.constant_(module.bias, 0)\n",
        "        \n",
        "resnet.apply(initialize_weight);"
      ],
      "execution_count": 10,
      "outputs": []
    },
    {
      "cell_type": "markdown",
      "metadata": {
        "id": "MN8Yt3f7zxGe"
      },
      "source": [
        "# 4. Training\n",
        "So now we have a shiny new model, but that doesn't really help when we can't train it. So that's what we do next.\n",
        "\n",
        "First we need to load the data. Note that we split the official training data into train and validation sets, because you must not look at the test set until you are completely done developing your model and report the final results. Some people don't do this properly, but you should not copy other people's bad habits."
      ]
    },
    {
      "cell_type": "code",
      "metadata": {
        "id": "1N2wYsRfzxGe"
      },
      "source": [
        "class CIFAR10Subset(torchvision.datasets.CIFAR10):\n",
        "    \"\"\"\n",
        "    Get a subset of the CIFAR10 dataset, according to the passed indices.\n",
        "    \"\"\"\n",
        "    def __init__(self, *args, idx=None, **kwargs):\n",
        "        super().__init__(*args, **kwargs)\n",
        "        \n",
        "        if idx is None:\n",
        "            return\n",
        "        \n",
        "        self.data = self.data[idx]\n",
        "        targets_np = np.array(self.targets)\n",
        "        self.targets = targets_np[idx].tolist()"
      ],
      "execution_count": 11,
      "outputs": []
    },
    {
      "cell_type": "markdown",
      "metadata": {
        "id": "dqrT4gI-zxGf"
      },
      "source": [
        "We next define transformations that change the images into PyTorch tensors, standardize the values according to the precomputed mean and standard deviation, and provide data augmentation for the training set."
      ]
    },
    {
      "cell_type": "code",
      "metadata": {
        "id": "XrNtoXeXzxGf"
      },
      "source": [
        "normalize = transforms.Normalize(mean=[0.485, 0.456, 0.406],\n",
        "                                 std=[0.229, 0.224, 0.225])\n",
        "transform_train = transforms.Compose([\n",
        "    transforms.RandomHorizontalFlip(),\n",
        "    transforms.RandomCrop(32, 4),\n",
        "    transforms.ToTensor(),\n",
        "    normalize,\n",
        "])\n",
        "transform_eval = transforms.Compose([\n",
        "    transforms.ToTensor(),\n",
        "    normalize\n",
        "])"
      ],
      "execution_count": 12,
      "outputs": []
    },
    {
      "cell_type": "code",
      "metadata": {
        "colab": {
          "base_uri": "https://localhost:8080/"
        },
        "id": "1GDzFxpJzxGf",
        "outputId": "ad31d3eb-f2f2-4e36-aff8-f9d0353386a6"
      },
      "source": [
        "ntrain = 45_000\n",
        "train_set = CIFAR10Subset(root='./data', train=True, idx=range(ntrain),\n",
        "                          download=True, transform=transform_train)\n",
        "val_set = CIFAR10Subset(root='./data', train=True, idx=range(ntrain, 50_000),\n",
        "                        download=True, transform=transform_eval)\n",
        "test_set = torchvision.datasets.CIFAR10(root='./data', train=False,\n",
        "                                        download=True, transform=transform_eval)"
      ],
      "execution_count": 13,
      "outputs": [
        {
          "output_type": "stream",
          "text": [
            "Files already downloaded and verified\n",
            "Files already downloaded and verified\n",
            "Files already downloaded and verified\n"
          ],
          "name": "stdout"
        }
      ]
    },
    {
      "cell_type": "code",
      "metadata": {
        "id": "yCWTn8p4zxGh"
      },
      "source": [
        "dataloaders = {}\n",
        "dataloaders['train'] = torch.utils.data.DataLoader(train_set, batch_size=128,\n",
        "                                                   shuffle=True, num_workers=2,\n",
        "                                                   pin_memory=True)\n",
        "dataloaders['val'] = torch.utils.data.DataLoader(val_set, batch_size=128,\n",
        "                                                 shuffle=False, num_workers=2,\n",
        "                                                 pin_memory=True)\n",
        "dataloaders['test'] = torch.utils.data.DataLoader(test_set, batch_size=128,\n",
        "                                                  shuffle=False, num_workers=2,\n",
        "                                                  pin_memory=True)"
      ],
      "execution_count": 14,
      "outputs": []
    },
    {
      "cell_type": "code",
      "metadata": {
        "colab": {
          "base_uri": "https://localhost:8080/"
        },
        "id": "MYbPSddOWpcU",
        "outputId": "d08eaedd-b58b-49d1-ca21-2e7a41b4e400"
      },
      "source": [
        "dataiter = iter(dataloaders['train'])\n",
        "images, labels = dataiter.next()\n",
        "print(images.shape)"
      ],
      "execution_count": 15,
      "outputs": [
        {
          "output_type": "stream",
          "text": [
            "torch.Size([128, 3, 32, 32])\n"
          ],
          "name": "stdout"
        }
      ]
    },
    {
      "cell_type": "markdown",
      "metadata": {
        "id": "t8l0KpTuzxGh"
      },
      "source": [
        "Next we push the model to our GPU (if there is one)."
      ]
    },
    {
      "cell_type": "code",
      "metadata": {
        "id": "iXX89L1-zxGh"
      },
      "source": [
        "device = torch.device('cuda') if torch.cuda.is_available() else torch.device('cpu')\n",
        "resnet.to(device);"
      ],
      "execution_count": 16,
      "outputs": []
    },
    {
      "cell_type": "markdown",
      "metadata": {
        "id": "ofsiG--_zxGh"
      },
      "source": [
        "Next we define a helper method that does one epoch of training or evaluation. We have only defined training here, so you need to implement the necessary changes for evaluation!"
      ]
    },
    {
      "cell_type": "code",
      "metadata": {
        "id": "OIn8-CcHzxGh"
      },
      "source": [
        "def run_epoch(model, optimizer, dataloader, train):\n",
        "    \"\"\"\n",
        "    Run one epoch of training or evaluation.\n",
        "    \n",
        "    Args:\n",
        "        model: The model used for prediction\n",
        "        optimizer: Optimization algorithm for the model\n",
        "        dataloader: Dataloader providing the data to run our model on\n",
        "        train: Whether this epoch is used for training or evaluation\n",
        "        \n",
        "    Returns:\n",
        "        Loss and accuracy in this epoch.\n",
        "    \"\"\"\n",
        "    # TODO: Change the necessary parts to work correctly during evaluation (train=False)\n",
        "    \n",
        "    device = next(model.parameters()).device\n",
        "    \n",
        "    # Set model to training mode (for e.g. batch normalization, dropout)\n",
        "    \n",
        "    if train==True:\n",
        "        model.train()\n",
        "    else:\n",
        "        model.eval()\n",
        "\n",
        "    epoch_loss = 0.0\n",
        "    epoch_acc = 0.0\n",
        "\n",
        "    # Iterate over data\n",
        "    for xb, yb in dataloader:\n",
        "        xb, yb = xb.to(device), yb.to(device)\n",
        "\n",
        "        if train==True:\n",
        "        # zero the parameter gradients\n",
        "            optimizer.zero_grad()\n",
        "\n",
        "        if train==True:\n",
        "          # forward\n",
        "            with torch.set_grad_enabled(True):\n",
        "                pred = model(xb)\n",
        "                loss = F.cross_entropy(pred, yb)\n",
        "                top1 = torch.argmax(pred, dim=1)\n",
        "                ncorrect = torch.sum(top1 == yb)\n",
        "\n",
        "                loss.backward()\n",
        "                optimizer.step()\n",
        "        else:\n",
        "            pred = model(xb)\n",
        "            loss = F.cross_entropy(pred, yb)\n",
        "            top1 = torch.argmax(pred, dim=1)\n",
        "            ncorrect = torch.sum(top1 == yb)\n",
        "\n",
        "        # statistics\n",
        "        epoch_loss += loss.item()\n",
        "        epoch_acc += ncorrect.item()\n",
        "    \n",
        "    epoch_loss /= len(dataloader.dataset)\n",
        "    epoch_acc /= len(dataloader.dataset)\n",
        "    return epoch_loss, epoch_acc"
      ],
      "execution_count": 17,
      "outputs": []
    },
    {
      "cell_type": "markdown",
      "metadata": {
        "id": "SOE0F1nUzxGh"
      },
      "source": [
        "Next we implement a method for fitting (training) our model. For many models early stopping can save a lot of training time. Your task is to add early stopping to the loop (based on validation accuracy). Early stopping usually means exiting the training loop if the validation accuracy hasn't improved for `patience` number of steps. Don't forget to save the best model parameters according to validation accuracy. You will need `copy.deepcopy` and the `state_dict` for this."
      ]
    },
    {
      "cell_type": "code",
      "metadata": {
        "id": "4qt8TBnkzxGi"
      },
      "source": [
        "def fit(model, optimizer, lr_scheduler, dataloaders, max_epochs, patience):\n",
        "    \"\"\"\n",
        "    Fit the given model on the dataset.\n",
        "    \n",
        "    Args:\n",
        "        model: The model used for prediction\n",
        "        optimizer: Optimization algorithm for the model\n",
        "        lr_scheduler: Learning rate scheduler that improves training\n",
        "                      in late epochs with learning rate decay\n",
        "        dataloaders: Dataloaders for training and validation\n",
        "        max_epochs: Maximum number of epochs for training\n",
        "        patience: Number of epochs to wait with early stopping the\n",
        "                  training if validation loss has decreased\n",
        "                  \n",
        "    Returns:\n",
        "        Loss and accuracy in this epoch.\n",
        "    \"\"\"\n",
        "    \n",
        "    best_acc = 0\n",
        "    curr_patience = 0\n",
        "    \n",
        "    for epoch in range(max_epochs):\n",
        "        train_loss, train_acc = run_epoch(model, optimizer, dataloaders['train'], train=True)\n",
        "        lr_scheduler.step()\n",
        "        print(f\"Epoch {epoch + 1: >3}/{max_epochs}, train loss: {train_loss:.2e}, accuracy: {train_acc * 100:.2f}%\")\n",
        "        \n",
        "        val_loss, val_acc = run_epoch(model, None, dataloaders['val'], train=False)\n",
        "        print(f\"Epoch {epoch + 1: >3}/{max_epochs}, val loss: {val_loss:.2e}, accuracy: {val_acc * 100:.2f}%\")\n",
        "        \n",
        "        # TODO: Add early stopping and save the best weights (in best_model_weights)\n",
        "        if best_acc ==0 or val_loss < best_acc[\"val_loss\"]:\n",
        "            best_acc = {\"val_loss\": val_loss, \"train_loss\": train_loss}\n",
        "            current_patience = 0\n",
        "        else:\n",
        "            current_patience += 1\n",
        "        \n",
        "        torch.save(model.state_dict(), 'reset-cifar.pth')\n",
        "        print(\"Saving model...\")\n",
        "\n",
        "        if current_patience >= patience:\n",
        "          print(\"Stoppoing early at epoch {}!\".format(epoch+1))\n",
        "          break\n",
        "\n",
        "    best_model_weights = torch.load('reset-cifar.pth')\n",
        "    model.load_state_dict(best_model_weights)"
      ],
      "execution_count": 18,
      "outputs": []
    },
    {
      "cell_type": "markdown",
      "metadata": {
        "id": "eiryNOUszxGi"
      },
      "source": [
        "In most cases you should just use the Adam optimizer for training, because it works well out of the box. However, a well-tuned SGD (with momentum) will in most cases outperform Adam. And since the original paper gives us a well-tuned SGD we will just use that."
      ]
    },
    {
      "cell_type": "code",
      "metadata": {
        "colab": {
          "base_uri": "https://localhost:8080/"
        },
        "id": "uaEv8ayFzxGi",
        "outputId": "e1e8c807-fd47-42aa-9c3a-e7e44018a280"
      },
      "source": [
        "optimizer = torch.optim.SGD(resnet.parameters(), lr=0.1, momentum=0.9, weight_decay=1e-4)\n",
        "lr_scheduler = torch.optim.lr_scheduler.MultiStepLR(optimizer, milestones=[100, 150], gamma=0.1)\n",
        "\n",
        "# Fit model\n",
        "fit(resnet, optimizer, lr_scheduler, dataloaders, max_epochs=200, patience=50)"
      ],
      "execution_count": 19,
      "outputs": [
        {
          "output_type": "stream",
          "text": [
            "Epoch   1/200, train loss: 1.53e-02, accuracy: 28.83%\n",
            "Epoch   1/200, val loss: 1.32e-02, accuracy: 38.70%\n",
            "Saving model...\n",
            "Epoch   2/200, train loss: 1.15e-02, accuracy: 45.39%\n",
            "Epoch   2/200, val loss: 1.10e-02, accuracy: 51.34%\n",
            "Saving model...\n",
            "Epoch   3/200, train loss: 9.25e-03, accuracy: 57.13%\n",
            "Epoch   3/200, val loss: 8.53e-03, accuracy: 62.56%\n",
            "Saving model...\n",
            "Epoch   4/200, train loss: 7.78e-03, accuracy: 64.69%\n",
            "Epoch   4/200, val loss: 9.32e-03, accuracy: 61.52%\n",
            "Saving model...\n",
            "Epoch   5/200, train loss: 6.80e-03, accuracy: 69.14%\n",
            "Epoch   5/200, val loss: 7.05e-03, accuracy: 70.34%\n",
            "Saving model...\n",
            "Epoch   6/200, train loss: 6.02e-03, accuracy: 72.85%\n",
            "Epoch   6/200, val loss: 7.16e-03, accuracy: 70.18%\n",
            "Saving model...\n",
            "Epoch   7/200, train loss: 5.42e-03, accuracy: 75.73%\n",
            "Epoch   7/200, val loss: 5.95e-03, accuracy: 74.58%\n",
            "Saving model...\n",
            "Epoch   8/200, train loss: 4.92e-03, accuracy: 78.23%\n",
            "Epoch   8/200, val loss: 5.09e-03, accuracy: 78.24%\n",
            "Saving model...\n",
            "Epoch   9/200, train loss: 4.55e-03, accuracy: 79.94%\n",
            "Epoch   9/200, val loss: 5.43e-03, accuracy: 78.14%\n",
            "Saving model...\n",
            "Epoch  10/200, train loss: 4.34e-03, accuracy: 80.77%\n",
            "Epoch  10/200, val loss: 5.00e-03, accuracy: 79.22%\n",
            "Saving model...\n",
            "Epoch  11/200, train loss: 4.07e-03, accuracy: 82.12%\n",
            "Epoch  11/200, val loss: 6.41e-03, accuracy: 74.86%\n",
            "Saving model...\n",
            "Epoch  12/200, train loss: 3.87e-03, accuracy: 82.94%\n",
            "Epoch  12/200, val loss: 5.47e-03, accuracy: 77.62%\n",
            "Saving model...\n",
            "Epoch  13/200, train loss: 3.72e-03, accuracy: 83.60%\n",
            "Epoch  13/200, val loss: 4.40e-03, accuracy: 82.52%\n",
            "Saving model...\n",
            "Epoch  14/200, train loss: 3.55e-03, accuracy: 84.28%\n",
            "Epoch  14/200, val loss: 4.59e-03, accuracy: 81.58%\n",
            "Saving model...\n",
            "Epoch  15/200, train loss: 3.42e-03, accuracy: 84.84%\n",
            "Epoch  15/200, val loss: 4.62e-03, accuracy: 81.08%\n",
            "Saving model...\n",
            "Epoch  16/200, train loss: 3.30e-03, accuracy: 85.33%\n",
            "Epoch  16/200, val loss: 5.33e-03, accuracy: 80.14%\n",
            "Saving model...\n",
            "Epoch  17/200, train loss: 3.18e-03, accuracy: 85.98%\n",
            "Epoch  17/200, val loss: 4.53e-03, accuracy: 82.54%\n",
            "Saving model...\n",
            "Epoch  18/200, train loss: 3.11e-03, accuracy: 86.16%\n",
            "Epoch  18/200, val loss: 4.65e-03, accuracy: 82.74%\n",
            "Saving model...\n",
            "Epoch  19/200, train loss: 2.94e-03, accuracy: 87.01%\n",
            "Epoch  19/200, val loss: 4.82e-03, accuracy: 81.08%\n",
            "Saving model...\n",
            "Epoch  20/200, train loss: 2.92e-03, accuracy: 87.00%\n",
            "Epoch  20/200, val loss: 4.50e-03, accuracy: 82.26%\n",
            "Saving model...\n",
            "Epoch  21/200, train loss: 2.84e-03, accuracy: 87.32%\n",
            "Epoch  21/200, val loss: 4.54e-03, accuracy: 82.22%\n",
            "Saving model...\n",
            "Epoch  22/200, train loss: 2.77e-03, accuracy: 87.77%\n",
            "Epoch  22/200, val loss: 4.64e-03, accuracy: 82.16%\n",
            "Saving model...\n",
            "Epoch  23/200, train loss: 2.67e-03, accuracy: 88.13%\n",
            "Epoch  23/200, val loss: 4.41e-03, accuracy: 82.18%\n",
            "Saving model...\n",
            "Epoch  24/200, train loss: 2.63e-03, accuracy: 88.42%\n",
            "Epoch  24/200, val loss: 4.48e-03, accuracy: 82.30%\n",
            "Saving model...\n",
            "Epoch  25/200, train loss: 2.56e-03, accuracy: 88.72%\n",
            "Epoch  25/200, val loss: 4.75e-03, accuracy: 82.12%\n",
            "Saving model...\n",
            "Epoch  26/200, train loss: 2.56e-03, accuracy: 88.50%\n",
            "Epoch  26/200, val loss: 4.19e-03, accuracy: 84.24%\n",
            "Saving model...\n",
            "Epoch  27/200, train loss: 2.46e-03, accuracy: 89.15%\n",
            "Epoch  27/200, val loss: 3.56e-03, accuracy: 85.64%\n",
            "Saving model...\n",
            "Epoch  28/200, train loss: 2.43e-03, accuracy: 89.21%\n",
            "Epoch  28/200, val loss: 6.01e-03, accuracy: 79.48%\n",
            "Saving model...\n",
            "Epoch  29/200, train loss: 2.37e-03, accuracy: 89.33%\n",
            "Epoch  29/200, val loss: 4.11e-03, accuracy: 83.98%\n",
            "Saving model...\n",
            "Epoch  30/200, train loss: 2.34e-03, accuracy: 89.50%\n",
            "Epoch  30/200, val loss: 4.00e-03, accuracy: 84.34%\n",
            "Saving model...\n",
            "Epoch  31/200, train loss: 2.31e-03, accuracy: 89.54%\n",
            "Epoch  31/200, val loss: 3.76e-03, accuracy: 86.14%\n",
            "Saving model...\n",
            "Epoch  32/200, train loss: 2.27e-03, accuracy: 89.94%\n",
            "Epoch  32/200, val loss: 4.36e-03, accuracy: 83.38%\n",
            "Saving model...\n",
            "Epoch  33/200, train loss: 2.24e-03, accuracy: 90.10%\n",
            "Epoch  33/200, val loss: 3.72e-03, accuracy: 85.90%\n",
            "Saving model...\n",
            "Epoch  34/200, train loss: 2.20e-03, accuracy: 90.23%\n",
            "Epoch  34/200, val loss: 3.65e-03, accuracy: 86.06%\n",
            "Saving model...\n",
            "Epoch  35/200, train loss: 2.15e-03, accuracy: 90.43%\n",
            "Epoch  35/200, val loss: 4.20e-03, accuracy: 84.10%\n",
            "Saving model...\n",
            "Epoch  36/200, train loss: 2.14e-03, accuracy: 90.31%\n",
            "Epoch  36/200, val loss: 3.95e-03, accuracy: 85.20%\n",
            "Saving model...\n",
            "Epoch  37/200, train loss: 2.11e-03, accuracy: 90.58%\n",
            "Epoch  37/200, val loss: 3.90e-03, accuracy: 84.86%\n",
            "Saving model...\n",
            "Epoch  38/200, train loss: 2.10e-03, accuracy: 90.59%\n",
            "Epoch  38/200, val loss: 3.81e-03, accuracy: 85.44%\n",
            "Saving model...\n",
            "Epoch  39/200, train loss: 2.03e-03, accuracy: 90.79%\n",
            "Epoch  39/200, val loss: 4.45e-03, accuracy: 83.72%\n",
            "Saving model...\n",
            "Epoch  40/200, train loss: 2.06e-03, accuracy: 90.82%\n",
            "Epoch  40/200, val loss: 3.62e-03, accuracy: 85.88%\n",
            "Saving model...\n",
            "Epoch  41/200, train loss: 1.98e-03, accuracy: 91.18%\n",
            "Epoch  41/200, val loss: 4.50e-03, accuracy: 83.16%\n",
            "Saving model...\n",
            "Epoch  42/200, train loss: 2.00e-03, accuracy: 91.10%\n",
            "Epoch  42/200, val loss: 4.55e-03, accuracy: 83.80%\n",
            "Saving model...\n",
            "Epoch  43/200, train loss: 1.98e-03, accuracy: 91.30%\n",
            "Epoch  43/200, val loss: 3.73e-03, accuracy: 85.56%\n",
            "Saving model...\n",
            "Epoch  44/200, train loss: 1.97e-03, accuracy: 91.25%\n",
            "Epoch  44/200, val loss: 3.48e-03, accuracy: 86.90%\n",
            "Saving model...\n",
            "Epoch  45/200, train loss: 1.92e-03, accuracy: 91.49%\n",
            "Epoch  45/200, val loss: 4.19e-03, accuracy: 84.52%\n",
            "Saving model...\n",
            "Epoch  46/200, train loss: 1.88e-03, accuracy: 91.59%\n",
            "Epoch  46/200, val loss: 3.55e-03, accuracy: 86.62%\n",
            "Saving model...\n",
            "Epoch  47/200, train loss: 1.93e-03, accuracy: 91.21%\n",
            "Epoch  47/200, val loss: 4.09e-03, accuracy: 85.24%\n",
            "Saving model...\n",
            "Epoch  48/200, train loss: 1.88e-03, accuracy: 91.47%\n",
            "Epoch  48/200, val loss: 4.65e-03, accuracy: 84.08%\n",
            "Saving model...\n",
            "Epoch  49/200, train loss: 1.86e-03, accuracy: 91.83%\n",
            "Epoch  49/200, val loss: 5.03e-03, accuracy: 82.30%\n",
            "Saving model...\n",
            "Epoch  50/200, train loss: 1.82e-03, accuracy: 91.74%\n",
            "Epoch  50/200, val loss: 4.29e-03, accuracy: 84.32%\n",
            "Saving model...\n",
            "Epoch  51/200, train loss: 1.84e-03, accuracy: 91.85%\n",
            "Epoch  51/200, val loss: 3.99e-03, accuracy: 85.04%\n",
            "Saving model...\n",
            "Epoch  52/200, train loss: 1.82e-03, accuracy: 91.91%\n",
            "Epoch  52/200, val loss: 4.14e-03, accuracy: 85.04%\n",
            "Saving model...\n",
            "Epoch  53/200, train loss: 1.81e-03, accuracy: 91.88%\n",
            "Epoch  53/200, val loss: 4.81e-03, accuracy: 84.48%\n",
            "Saving model...\n",
            "Epoch  54/200, train loss: 1.80e-03, accuracy: 91.99%\n",
            "Epoch  54/200, val loss: 3.92e-03, accuracy: 86.00%\n",
            "Saving model...\n",
            "Epoch  55/200, train loss: 1.79e-03, accuracy: 92.06%\n",
            "Epoch  55/200, val loss: 4.39e-03, accuracy: 84.06%\n",
            "Saving model...\n",
            "Epoch  56/200, train loss: 1.75e-03, accuracy: 92.14%\n",
            "Epoch  56/200, val loss: 4.30e-03, accuracy: 85.72%\n",
            "Saving model...\n",
            "Epoch  57/200, train loss: 1.76e-03, accuracy: 92.14%\n",
            "Epoch  57/200, val loss: 3.61e-03, accuracy: 86.22%\n",
            "Saving model...\n",
            "Epoch  58/200, train loss: 1.74e-03, accuracy: 92.21%\n",
            "Epoch  58/200, val loss: 3.73e-03, accuracy: 86.26%\n",
            "Saving model...\n",
            "Epoch  59/200, train loss: 1.71e-03, accuracy: 92.33%\n",
            "Epoch  59/200, val loss: 3.41e-03, accuracy: 87.22%\n",
            "Saving model...\n",
            "Epoch  60/200, train loss: 1.71e-03, accuracy: 92.28%\n",
            "Epoch  60/200, val loss: 4.00e-03, accuracy: 84.82%\n",
            "Saving model...\n",
            "Epoch  61/200, train loss: 1.71e-03, accuracy: 92.35%\n",
            "Epoch  61/200, val loss: 3.62e-03, accuracy: 87.40%\n",
            "Saving model...\n",
            "Epoch  62/200, train loss: 1.72e-03, accuracy: 92.22%\n",
            "Epoch  62/200, val loss: 3.82e-03, accuracy: 86.34%\n",
            "Saving model...\n",
            "Epoch  63/200, train loss: 1.68e-03, accuracy: 92.49%\n",
            "Epoch  63/200, val loss: 3.96e-03, accuracy: 86.26%\n",
            "Saving model...\n",
            "Epoch  64/200, train loss: 1.63e-03, accuracy: 92.67%\n",
            "Epoch  64/200, val loss: 3.59e-03, accuracy: 86.72%\n",
            "Saving model...\n",
            "Epoch  65/200, train loss: 1.66e-03, accuracy: 92.58%\n",
            "Epoch  65/200, val loss: 3.74e-03, accuracy: 87.36%\n",
            "Saving model...\n",
            "Epoch  66/200, train loss: 1.66e-03, accuracy: 92.63%\n",
            "Epoch  66/200, val loss: 4.14e-03, accuracy: 85.80%\n",
            "Saving model...\n",
            "Epoch  67/200, train loss: 1.70e-03, accuracy: 92.38%\n",
            "Epoch  67/200, val loss: 3.75e-03, accuracy: 86.98%\n",
            "Saving model...\n",
            "Epoch  68/200, train loss: 1.61e-03, accuracy: 92.72%\n",
            "Epoch  68/200, val loss: 3.76e-03, accuracy: 87.50%\n",
            "Saving model...\n",
            "Epoch  69/200, train loss: 1.65e-03, accuracy: 92.65%\n",
            "Epoch  69/200, val loss: 4.23e-03, accuracy: 86.54%\n",
            "Saving model...\n",
            "Epoch  70/200, train loss: 1.60e-03, accuracy: 92.70%\n",
            "Epoch  70/200, val loss: 3.44e-03, accuracy: 87.06%\n",
            "Saving model...\n",
            "Epoch  71/200, train loss: 1.60e-03, accuracy: 92.77%\n",
            "Epoch  71/200, val loss: 3.91e-03, accuracy: 86.10%\n",
            "Saving model...\n",
            "Epoch  72/200, train loss: 1.58e-03, accuracy: 92.97%\n",
            "Epoch  72/200, val loss: 3.79e-03, accuracy: 86.36%\n",
            "Saving model...\n",
            "Epoch  73/200, train loss: 1.64e-03, accuracy: 92.62%\n",
            "Epoch  73/200, val loss: 4.43e-03, accuracy: 84.80%\n",
            "Saving model...\n",
            "Epoch  74/200, train loss: 1.56e-03, accuracy: 92.93%\n",
            "Epoch  74/200, val loss: 3.80e-03, accuracy: 86.30%\n",
            "Saving model...\n",
            "Epoch  75/200, train loss: 1.50e-03, accuracy: 93.12%\n",
            "Epoch  75/200, val loss: 3.58e-03, accuracy: 87.00%\n",
            "Saving model...\n",
            "Epoch  76/200, train loss: 1.59e-03, accuracy: 92.85%\n",
            "Epoch  76/200, val loss: 3.52e-03, accuracy: 88.08%\n",
            "Saving model...\n",
            "Epoch  77/200, train loss: 1.54e-03, accuracy: 93.11%\n",
            "Epoch  77/200, val loss: 4.13e-03, accuracy: 85.80%\n",
            "Saving model...\n",
            "Epoch  78/200, train loss: 1.52e-03, accuracy: 93.16%\n",
            "Epoch  78/200, val loss: 4.31e-03, accuracy: 85.64%\n",
            "Saving model...\n",
            "Epoch  79/200, train loss: 1.60e-03, accuracy: 92.73%\n",
            "Epoch  79/200, val loss: 3.23e-03, accuracy: 88.06%\n",
            "Saving model...\n",
            "Epoch  80/200, train loss: 1.53e-03, accuracy: 93.11%\n",
            "Epoch  80/200, val loss: 4.88e-03, accuracy: 83.54%\n",
            "Saving model...\n",
            "Epoch  81/200, train loss: 1.57e-03, accuracy: 92.95%\n",
            "Epoch  81/200, val loss: 3.33e-03, accuracy: 88.10%\n",
            "Saving model...\n",
            "Epoch  82/200, train loss: 1.53e-03, accuracy: 93.20%\n",
            "Epoch  82/200, val loss: 4.39e-03, accuracy: 85.36%\n",
            "Saving model...\n",
            "Epoch  83/200, train loss: 1.51e-03, accuracy: 93.24%\n",
            "Epoch  83/200, val loss: 3.79e-03, accuracy: 86.62%\n",
            "Saving model...\n",
            "Epoch  84/200, train loss: 1.48e-03, accuracy: 93.37%\n",
            "Epoch  84/200, val loss: 3.69e-03, accuracy: 87.12%\n",
            "Saving model...\n",
            "Epoch  85/200, train loss: 1.52e-03, accuracy: 93.08%\n",
            "Epoch  85/200, val loss: 4.19e-03, accuracy: 85.14%\n",
            "Saving model...\n",
            "Epoch  86/200, train loss: 1.47e-03, accuracy: 93.43%\n",
            "Epoch  86/200, val loss: 3.86e-03, accuracy: 86.72%\n",
            "Saving model...\n",
            "Epoch  87/200, train loss: 1.51e-03, accuracy: 93.22%\n",
            "Epoch  87/200, val loss: 3.96e-03, accuracy: 87.10%\n",
            "Saving model...\n",
            "Epoch  88/200, train loss: 1.49e-03, accuracy: 93.29%\n",
            "Epoch  88/200, val loss: 4.08e-03, accuracy: 86.02%\n",
            "Saving model...\n",
            "Epoch  89/200, train loss: 1.52e-03, accuracy: 93.11%\n",
            "Epoch  89/200, val loss: 3.58e-03, accuracy: 86.76%\n",
            "Saving model...\n",
            "Epoch  90/200, train loss: 1.52e-03, accuracy: 93.17%\n",
            "Epoch  90/200, val loss: 4.25e-03, accuracy: 86.38%\n",
            "Saving model...\n",
            "Epoch  91/200, train loss: 1.47e-03, accuracy: 93.34%\n",
            "Epoch  91/200, val loss: 3.70e-03, accuracy: 87.46%\n",
            "Saving model...\n",
            "Epoch  92/200, train loss: 1.44e-03, accuracy: 93.45%\n",
            "Epoch  92/200, val loss: 3.58e-03, accuracy: 87.92%\n",
            "Saving model...\n",
            "Epoch  93/200, train loss: 1.45e-03, accuracy: 93.48%\n",
            "Epoch  93/200, val loss: 4.48e-03, accuracy: 85.56%\n",
            "Saving model...\n",
            "Epoch  94/200, train loss: 1.51e-03, accuracy: 93.32%\n",
            "Epoch  94/200, val loss: 3.23e-03, accuracy: 87.54%\n",
            "Saving model...\n",
            "Epoch  95/200, train loss: 1.51e-03, accuracy: 93.14%\n",
            "Epoch  95/200, val loss: 3.49e-03, accuracy: 87.28%\n",
            "Saving model...\n",
            "Epoch  96/200, train loss: 1.41e-03, accuracy: 93.70%\n",
            "Epoch  96/200, val loss: 3.58e-03, accuracy: 87.60%\n",
            "Saving model...\n",
            "Epoch  97/200, train loss: 1.46e-03, accuracy: 93.51%\n",
            "Epoch  97/200, val loss: 4.09e-03, accuracy: 85.50%\n",
            "Saving model...\n",
            "Epoch  98/200, train loss: 1.40e-03, accuracy: 93.66%\n",
            "Epoch  98/200, val loss: 3.48e-03, accuracy: 87.90%\n",
            "Saving model...\n",
            "Epoch  99/200, train loss: 1.47e-03, accuracy: 93.32%\n",
            "Epoch  99/200, val loss: 3.40e-03, accuracy: 88.72%\n",
            "Saving model...\n",
            "Epoch 100/200, train loss: 1.44e-03, accuracy: 93.54%\n",
            "Epoch 100/200, val loss: 3.57e-03, accuracy: 87.82%\n",
            "Saving model...\n",
            "Epoch 101/200, train loss: 7.83e-04, accuracy: 96.62%\n",
            "Epoch 101/200, val loss: 2.62e-03, accuracy: 91.84%\n",
            "Saving model...\n",
            "Epoch 102/200, train loss: 5.72e-04, accuracy: 97.59%\n",
            "Epoch 102/200, val loss: 2.61e-03, accuracy: 91.76%\n",
            "Saving model...\n",
            "Epoch 103/200, train loss: 4.95e-04, accuracy: 97.98%\n",
            "Epoch 103/200, val loss: 2.63e-03, accuracy: 92.08%\n",
            "Saving model...\n",
            "Epoch 104/200, train loss: 4.54e-04, accuracy: 98.10%\n",
            "Epoch 104/200, val loss: 2.64e-03, accuracy: 91.98%\n",
            "Saving model...\n",
            "Epoch 105/200, train loss: 3.94e-04, accuracy: 98.43%\n",
            "Epoch 105/200, val loss: 2.68e-03, accuracy: 92.02%\n",
            "Saving model...\n",
            "Epoch 106/200, train loss: 3.66e-04, accuracy: 98.53%\n",
            "Epoch 106/200, val loss: 2.67e-03, accuracy: 92.24%\n",
            "Saving model...\n",
            "Epoch 107/200, train loss: 3.58e-04, accuracy: 98.54%\n",
            "Epoch 107/200, val loss: 2.77e-03, accuracy: 92.06%\n",
            "Saving model...\n",
            "Epoch 108/200, train loss: 3.21e-04, accuracy: 98.78%\n",
            "Epoch 108/200, val loss: 2.78e-03, accuracy: 91.96%\n",
            "Saving model...\n",
            "Epoch 109/200, train loss: 3.27e-04, accuracy: 98.71%\n",
            "Epoch 109/200, val loss: 2.79e-03, accuracy: 92.12%\n",
            "Saving model...\n",
            "Epoch 110/200, train loss: 2.90e-04, accuracy: 98.88%\n",
            "Epoch 110/200, val loss: 2.80e-03, accuracy: 92.24%\n",
            "Saving model...\n",
            "Epoch 111/200, train loss: 2.78e-04, accuracy: 98.86%\n",
            "Epoch 111/200, val loss: 2.84e-03, accuracy: 92.12%\n",
            "Saving model...\n",
            "Epoch 112/200, train loss: 2.64e-04, accuracy: 98.98%\n",
            "Epoch 112/200, val loss: 2.88e-03, accuracy: 92.06%\n",
            "Saving model...\n",
            "Epoch 113/200, train loss: 2.56e-04, accuracy: 99.01%\n",
            "Epoch 113/200, val loss: 2.83e-03, accuracy: 92.00%\n",
            "Saving model...\n",
            "Epoch 114/200, train loss: 2.46e-04, accuracy: 99.01%\n",
            "Epoch 114/200, val loss: 2.92e-03, accuracy: 91.96%\n",
            "Saving model...\n",
            "Epoch 115/200, train loss: 2.37e-04, accuracy: 99.06%\n",
            "Epoch 115/200, val loss: 2.90e-03, accuracy: 92.06%\n",
            "Saving model...\n",
            "Epoch 116/200, train loss: 2.29e-04, accuracy: 99.09%\n",
            "Epoch 116/200, val loss: 2.91e-03, accuracy: 92.16%\n",
            "Saving model...\n",
            "Epoch 117/200, train loss: 2.21e-04, accuracy: 99.17%\n",
            "Epoch 117/200, val loss: 2.96e-03, accuracy: 92.40%\n",
            "Saving model...\n",
            "Epoch 118/200, train loss: 2.03e-04, accuracy: 99.23%\n",
            "Epoch 118/200, val loss: 3.01e-03, accuracy: 92.02%\n",
            "Saving model...\n",
            "Epoch 119/200, train loss: 1.95e-04, accuracy: 99.31%\n",
            "Epoch 119/200, val loss: 3.01e-03, accuracy: 91.92%\n",
            "Saving model...\n",
            "Epoch 120/200, train loss: 1.84e-04, accuracy: 99.32%\n",
            "Epoch 120/200, val loss: 3.02e-03, accuracy: 91.90%\n",
            "Saving model...\n",
            "Epoch 121/200, train loss: 1.87e-04, accuracy: 99.26%\n",
            "Epoch 121/200, val loss: 3.13e-03, accuracy: 92.12%\n",
            "Saving model...\n",
            "Epoch 122/200, train loss: 1.76e-04, accuracy: 99.34%\n",
            "Epoch 122/200, val loss: 3.06e-03, accuracy: 92.02%\n",
            "Saving model...\n",
            "Epoch 123/200, train loss: 1.73e-04, accuracy: 99.38%\n",
            "Epoch 123/200, val loss: 3.09e-03, accuracy: 91.74%\n",
            "Saving model...\n",
            "Epoch 124/200, train loss: 1.66e-04, accuracy: 99.42%\n",
            "Epoch 124/200, val loss: 3.13e-03, accuracy: 92.14%\n",
            "Saving model...\n",
            "Epoch 125/200, train loss: 1.59e-04, accuracy: 99.42%\n",
            "Epoch 125/200, val loss: 3.18e-03, accuracy: 92.14%\n",
            "Saving model...\n",
            "Epoch 126/200, train loss: 1.57e-04, accuracy: 99.43%\n",
            "Epoch 126/200, val loss: 3.22e-03, accuracy: 92.18%\n",
            "Saving model...\n",
            "Epoch 127/200, train loss: 1.42e-04, accuracy: 99.48%\n",
            "Epoch 127/200, val loss: 3.23e-03, accuracy: 92.04%\n",
            "Saving model...\n",
            "Epoch 128/200, train loss: 1.45e-04, accuracy: 99.50%\n",
            "Epoch 128/200, val loss: 3.25e-03, accuracy: 91.98%\n",
            "Saving model...\n",
            "Epoch 129/200, train loss: 1.42e-04, accuracy: 99.48%\n",
            "Epoch 129/200, val loss: 3.23e-03, accuracy: 92.18%\n",
            "Saving model...\n",
            "Epoch 130/200, train loss: 1.39e-04, accuracy: 99.50%\n",
            "Epoch 130/200, val loss: 3.30e-03, accuracy: 92.04%\n",
            "Saving model...\n",
            "Epoch 131/200, train loss: 1.35e-04, accuracy: 99.54%\n",
            "Epoch 131/200, val loss: 3.22e-03, accuracy: 92.00%\n",
            "Saving model...\n",
            "Epoch 132/200, train loss: 1.32e-04, accuracy: 99.53%\n",
            "Epoch 132/200, val loss: 3.25e-03, accuracy: 91.98%\n",
            "Saving model...\n",
            "Epoch 133/200, train loss: 1.31e-04, accuracy: 99.55%\n",
            "Epoch 133/200, val loss: 3.35e-03, accuracy: 92.02%\n",
            "Saving model...\n",
            "Epoch 134/200, train loss: 1.29e-04, accuracy: 99.56%\n",
            "Epoch 134/200, val loss: 3.26e-03, accuracy: 92.10%\n",
            "Saving model...\n",
            "Epoch 135/200, train loss: 1.21e-04, accuracy: 99.55%\n",
            "Epoch 135/200, val loss: 3.33e-03, accuracy: 91.98%\n",
            "Saving model...\n",
            "Epoch 136/200, train loss: 1.18e-04, accuracy: 99.64%\n",
            "Epoch 136/200, val loss: 3.28e-03, accuracy: 92.10%\n",
            "Saving model...\n",
            "Epoch 137/200, train loss: 1.12e-04, accuracy: 99.64%\n",
            "Epoch 137/200, val loss: 3.35e-03, accuracy: 91.90%\n",
            "Saving model...\n",
            "Epoch 138/200, train loss: 1.20e-04, accuracy: 99.55%\n",
            "Epoch 138/200, val loss: 3.39e-03, accuracy: 91.96%\n",
            "Saving model...\n",
            "Epoch 139/200, train loss: 1.16e-04, accuracy: 99.58%\n",
            "Epoch 139/200, val loss: 3.38e-03, accuracy: 91.96%\n",
            "Saving model...\n",
            "Epoch 140/200, train loss: 1.13e-04, accuracy: 99.61%\n",
            "Epoch 140/200, val loss: 3.35e-03, accuracy: 91.94%\n",
            "Saving model...\n",
            "Epoch 141/200, train loss: 1.01e-04, accuracy: 99.65%\n",
            "Epoch 141/200, val loss: 3.37e-03, accuracy: 92.04%\n",
            "Saving model...\n",
            "Epoch 142/200, train loss: 1.09e-04, accuracy: 99.61%\n",
            "Epoch 142/200, val loss: 3.43e-03, accuracy: 91.98%\n",
            "Saving model...\n",
            "Epoch 143/200, train loss: 1.05e-04, accuracy: 99.64%\n",
            "Epoch 143/200, val loss: 3.39e-03, accuracy: 92.20%\n",
            "Saving model...\n",
            "Epoch 144/200, train loss: 1.05e-04, accuracy: 99.66%\n",
            "Epoch 144/200, val loss: 3.39e-03, accuracy: 91.90%\n",
            "Saving model...\n",
            "Epoch 145/200, train loss: 1.09e-04, accuracy: 99.62%\n",
            "Epoch 145/200, val loss: 3.41e-03, accuracy: 92.08%\n",
            "Saving model...\n",
            "Epoch 146/200, train loss: 1.04e-04, accuracy: 99.63%\n",
            "Epoch 146/200, val loss: 3.35e-03, accuracy: 92.14%\n",
            "Saving model...\n",
            "Epoch 147/200, train loss: 9.39e-05, accuracy: 99.72%\n",
            "Epoch 147/200, val loss: 3.30e-03, accuracy: 92.18%\n",
            "Saving model...\n",
            "Epoch 148/200, train loss: 9.66e-05, accuracy: 99.67%\n",
            "Epoch 148/200, val loss: 3.43e-03, accuracy: 91.94%\n",
            "Saving model...\n",
            "Epoch 149/200, train loss: 9.38e-05, accuracy: 99.68%\n",
            "Epoch 149/200, val loss: 3.46e-03, accuracy: 92.14%\n",
            "Saving model...\n",
            "Epoch 150/200, train loss: 9.42e-05, accuracy: 99.69%\n",
            "Epoch 150/200, val loss: 3.42e-03, accuracy: 91.84%\n",
            "Saving model...\n",
            "Epoch 151/200, train loss: 8.71e-05, accuracy: 99.72%\n",
            "Epoch 151/200, val loss: 3.35e-03, accuracy: 91.98%\n",
            "Saving model...\n",
            "Epoch 152/200, train loss: 8.11e-05, accuracy: 99.75%\n",
            "Epoch 152/200, val loss: 3.40e-03, accuracy: 91.98%\n",
            "Saving model...\n",
            "Stoppoing early at epoch 152!\n"
          ],
          "name": "stdout"
        }
      ]
    },
    {
      "cell_type": "markdown",
      "metadata": {
        "id": "TPjZKQJxzxGi"
      },
      "source": [
        "Once the model is trained we run it on the test set to obtain our final accuracy.\n",
        "Note that we can only look at the test set once, everything else would lead to overfitting. So you _must_ ignore the test set while developing your model!"
      ]
    },
    {
      "cell_type": "code",
      "metadata": {
        "colab": {
          "base_uri": "https://localhost:8080/"
        },
        "id": "0DIgf7CBzxGi",
        "outputId": "0e15670c-1ee1-4338-d679-d7f6c83e029d"
      },
      "source": [
        "test_loss, test_acc = run_epoch(resnet, None, dataloaders['test'], train=False)\n",
        "print(f\"Test loss: {test_loss:.1e}, accuracy: {test_acc * 100:.2f}%\")"
      ],
      "execution_count": 21,
      "outputs": [
        {
          "output_type": "stream",
          "text": [
            "Test loss: 2.7e-03, accuracy: 92.07%\n"
          ],
          "name": "stdout"
        }
      ]
    },
    {
      "cell_type": "markdown",
      "metadata": {
        "id": "4EuususCzxGj"
      },
      "source": [
        "That's almost what was reported in the paper (92.49%) and we didn't even train on the full training set."
      ]
    },
    {
      "cell_type": "markdown",
      "metadata": {
        "id": "WhW3PPSfzxGj"
      },
      "source": [
        "# Optional task: Squeeze out all the juice!"
      ]
    },
    {
      "cell_type": "markdown",
      "metadata": {
        "id": "6JImMrwozxGj"
      },
      "source": [
        "Can you do even better? Have a look at [A Recipe for Training Neural Networks](https://karpathy.github.io/2019/04/25/recipe/) and some state-of-the-art architectures such as [EfficientNet architecture](https://ai.googleblog.com/2019/05/efficientnet-improving-accuracy-and.html). Play around with the possibilities PyTorch offers you and see how close you can get to the [state of the art on CIFAR-10](https://paperswithcode.com/sota/image-classification-on-cifar-10)."
      ]
    }
  ]
}